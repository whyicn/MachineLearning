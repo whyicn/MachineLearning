{
 "cells": [
  {
   "cell_type": "code",
   "execution_count": 1,
   "id": "9e5ace2c",
   "metadata": {},
   "outputs": [],
   "source": [
    "import pandas as pd\n",
    "import matplotlib.pyplot as plt\n",
    "from scipy import stats\n",
    "import numpy as np\n",
    "from sklearn.preprocessing import LabelEncoder\n",
    "import seaborn as sn\n",
    "from sklearn.metrics import classification_report\n",
    "from sklearn.metrics import confusion_matrix\n",
    "from sklearn.metrics import accuracy_score\n",
    "plt.style.use('ggplot')\n",
    "from sklearn import metrics"
   ]
  },
  {
   "cell_type": "markdown",
   "id": "5a53ebeb",
   "metadata": {},
   "source": [
    "## Data Understanding        "
   ]
  },
  {
   "cell_type": "code",
   "execution_count": 2,
   "id": "98a9faf1",
   "metadata": {},
   "outputs": [
    {
     "data": {
      "text/plain": [
       "(1460, 81)"
      ]
     },
     "execution_count": 2,
     "metadata": {},
     "output_type": "execute_result"
    }
   ],
   "source": [
    "housePrice = pd.read_csv('train.csv', keep_default_na=False, low_memory=False)\n",
    "\n",
    "housePrice.shape"
   ]
  },
  {
   "cell_type": "code",
   "execution_count": 3,
   "id": "f6d027af",
   "metadata": {},
   "outputs": [],
   "source": [
    "# iterate over each row in the input file\n",
    "labels = []\n",
    "for i in housePrice['SalePrice']:\n",
    "    if(i <= 150000):\n",
    "        labels.append('LOW')\n",
    "    elif(i > 150000 and i < 300000):\n",
    "        labels.append('MEDIUM')\n",
    "    else:\n",
    "        labels.append('HIGH')\n",
    "        \n",
    "housePrice['PriceLabel'] = labels\n",
    "housePrice['PriceLabel'] = housePrice['PriceLabel'].astype('category')"
   ]
  },
  {
   "cell_type": "code",
   "execution_count": 4,
   "id": "ea7197ca",
   "metadata": {},
   "outputs": [
    {
     "data": {
      "text/plain": [
       "Index(['MSSubClass', 'MSZoning', 'LotFrontage', 'LotArea', 'Street', 'Alley',\n",
       "       'LotShape', 'LandContour', 'Utilities', 'LotConfig', 'LandSlope',\n",
       "       'Neighborhood', 'Condition1', 'Condition2', 'BldgType', 'HouseStyle',\n",
       "       'OverallQual', 'OverallCond', 'YearBuilt', 'YearRemodAdd', 'RoofStyle',\n",
       "       'RoofMatl', 'Exterior1st', 'Exterior2nd', 'MasVnrType', 'MasVnrArea',\n",
       "       'ExterQual', 'ExterCond', 'Foundation', 'BsmtQual', 'BsmtCond',\n",
       "       'BsmtExposure', 'BsmtFinType1', 'BsmtFinSF1', 'BsmtFinType2',\n",
       "       'BsmtFinSF2', 'BsmtUnfSF', 'TotalBsmtSF', 'Heating', 'HeatingQC',\n",
       "       'CentralAir', 'Electrical', '1stFlrSF', '2ndFlrSF', 'LowQualFinSF',\n",
       "       'GrLivArea', 'BsmtFullBath', 'BsmtHalfBath', 'FullBath', 'HalfBath',\n",
       "       'BedroomAbvGr', 'KitchenAbvGr', 'KitchenQual', 'TotRmsAbvGrd',\n",
       "       'Functional', 'Fireplaces', 'FireplaceQu', 'GarageType', 'GarageYrBlt',\n",
       "       'GarageFinish', 'GarageCars', 'GarageArea', 'GarageQual', 'GarageCond',\n",
       "       'PavedDrive', 'WoodDeckSF', 'OpenPorchSF', 'EnclosedPorch', '3SsnPorch',\n",
       "       'ScreenPorch', 'PoolArea', 'PoolQC', 'Fence', 'MiscFeature', 'MiscVal',\n",
       "       'MoSold', 'YrSold', 'SaleType', 'SaleCondition', 'PriceLabel'],\n",
       "      dtype='object')"
      ]
     },
     "execution_count": 4,
     "metadata": {},
     "output_type": "execute_result"
    }
   ],
   "source": [
    "# how many elements are there (the attribute Id and salePrice is useless for data minning)\n",
    "if all([item in housePrice.columns for item in ['Id']]):\n",
    "    housePrice.drop(['Id'], axis=1, inplace=True)\n",
    "if all([item in housePrice.columns for item in ['SalePrice']]):\n",
    "    housePrice.drop(['SalePrice'], axis=1, inplace=True)\n",
    "housePrice.columns"
   ]
  },
  {
   "cell_type": "code",
   "execution_count": 5,
   "id": "bcdc7317",
   "metadata": {},
   "outputs": [
    {
     "data": {
      "text/plain": [
       "MSSubClass          int64\n",
       "MSZoning           object\n",
       "LotFrontage        object\n",
       "LotArea             int64\n",
       "Street             object\n",
       "                   ...   \n",
       "MoSold              int64\n",
       "YrSold              int64\n",
       "SaleType           object\n",
       "SaleCondition      object\n",
       "PriceLabel       category\n",
       "Length: 80, dtype: object"
      ]
     },
     "execution_count": 5,
     "metadata": {},
     "output_type": "execute_result"
    }
   ],
   "source": [
    "housePrice.dtypes"
   ]
  },
  {
   "cell_type": "code",
   "execution_count": 6,
   "id": "c50d8b1e",
   "metadata": {},
   "outputs": [
    {
     "data": {
      "text/plain": [
       "['MEDIUM', 'LOW', 'HIGH']\n",
       "Categories (3, object): ['MEDIUM', 'LOW', 'HIGH']"
      ]
     },
     "execution_count": 6,
     "metadata": {},
     "output_type": "execute_result"
    }
   ],
   "source": [
    "housePrice['PriceLabel'].unique()"
   ]
  },
  {
   "cell_type": "code",
   "execution_count": 7,
   "id": "f4c55260",
   "metadata": {},
   "outputs": [
    {
     "data": {
      "text/plain": [
       "0       MEDIUM\n",
       "1       MEDIUM\n",
       "2       MEDIUM\n",
       "3          LOW\n",
       "4       MEDIUM\n",
       "         ...  \n",
       "1455    MEDIUM\n",
       "1456    MEDIUM\n",
       "1457    MEDIUM\n",
       "1458       LOW\n",
       "1459       LOW\n",
       "Name: PriceLabel, Length: 1460, dtype: category\n",
       "Categories (3, object): ['HIGH', 'LOW', 'MEDIUM']"
      ]
     },
     "execution_count": 7,
     "metadata": {},
     "output_type": "execute_result"
    }
   ],
   "source": [
    "housePrice['PriceLabel']"
   ]
  },
  {
   "cell_type": "code",
   "execution_count": 8,
   "id": "5a2ac5c9",
   "metadata": {},
   "outputs": [
    {
     "data": {
      "text/plain": [
       "MEDIUM    726\n",
       "LOW       619\n",
       "HIGH      115\n",
       "Name: PriceLabel, dtype: int64"
      ]
     },
     "execution_count": 8,
     "metadata": {},
     "output_type": "execute_result"
    }
   ],
   "source": [
    "housePrice['PriceLabel'].value_counts()"
   ]
  },
  {
   "cell_type": "code",
   "execution_count": 9,
   "id": "2ffae4ea",
   "metadata": {},
   "outputs": [
    {
     "data": {
      "text/html": [
       "<div>\n",
       "<style scoped>\n",
       "    .dataframe tbody tr th:only-of-type {\n",
       "        vertical-align: middle;\n",
       "    }\n",
       "\n",
       "    .dataframe tbody tr th {\n",
       "        vertical-align: top;\n",
       "    }\n",
       "\n",
       "    .dataframe thead th {\n",
       "        text-align: right;\n",
       "    }\n",
       "</style>\n",
       "<table border=\"1\" class=\"dataframe\">\n",
       "  <thead>\n",
       "    <tr style=\"text-align: right;\">\n",
       "      <th></th>\n",
       "      <th>count</th>\n",
       "      <th>mean</th>\n",
       "      <th>std</th>\n",
       "      <th>min</th>\n",
       "      <th>25%</th>\n",
       "      <th>50%</th>\n",
       "      <th>75%</th>\n",
       "      <th>max</th>\n",
       "    </tr>\n",
       "  </thead>\n",
       "  <tbody>\n",
       "    <tr>\n",
       "      <th>MSSubClass</th>\n",
       "      <td>1460.0</td>\n",
       "      <td>56.897260</td>\n",
       "      <td>42.300571</td>\n",
       "      <td>20.0</td>\n",
       "      <td>20.00</td>\n",
       "      <td>50.0</td>\n",
       "      <td>70.00</td>\n",
       "      <td>190.0</td>\n",
       "    </tr>\n",
       "    <tr>\n",
       "      <th>LotArea</th>\n",
       "      <td>1460.0</td>\n",
       "      <td>10516.828082</td>\n",
       "      <td>9981.264932</td>\n",
       "      <td>1300.0</td>\n",
       "      <td>7553.50</td>\n",
       "      <td>9478.5</td>\n",
       "      <td>11601.50</td>\n",
       "      <td>215245.0</td>\n",
       "    </tr>\n",
       "    <tr>\n",
       "      <th>OverallQual</th>\n",
       "      <td>1460.0</td>\n",
       "      <td>6.099315</td>\n",
       "      <td>1.382997</td>\n",
       "      <td>1.0</td>\n",
       "      <td>5.00</td>\n",
       "      <td>6.0</td>\n",
       "      <td>7.00</td>\n",
       "      <td>10.0</td>\n",
       "    </tr>\n",
       "    <tr>\n",
       "      <th>OverallCond</th>\n",
       "      <td>1460.0</td>\n",
       "      <td>5.575342</td>\n",
       "      <td>1.112799</td>\n",
       "      <td>1.0</td>\n",
       "      <td>5.00</td>\n",
       "      <td>5.0</td>\n",
       "      <td>6.00</td>\n",
       "      <td>9.0</td>\n",
       "    </tr>\n",
       "    <tr>\n",
       "      <th>YearBuilt</th>\n",
       "      <td>1460.0</td>\n",
       "      <td>1971.267808</td>\n",
       "      <td>30.202904</td>\n",
       "      <td>1872.0</td>\n",
       "      <td>1954.00</td>\n",
       "      <td>1973.0</td>\n",
       "      <td>2000.00</td>\n",
       "      <td>2010.0</td>\n",
       "    </tr>\n",
       "    <tr>\n",
       "      <th>YearRemodAdd</th>\n",
       "      <td>1460.0</td>\n",
       "      <td>1984.865753</td>\n",
       "      <td>20.645407</td>\n",
       "      <td>1950.0</td>\n",
       "      <td>1967.00</td>\n",
       "      <td>1994.0</td>\n",
       "      <td>2004.00</td>\n",
       "      <td>2010.0</td>\n",
       "    </tr>\n",
       "    <tr>\n",
       "      <th>BsmtFinSF1</th>\n",
       "      <td>1460.0</td>\n",
       "      <td>443.639726</td>\n",
       "      <td>456.098091</td>\n",
       "      <td>0.0</td>\n",
       "      <td>0.00</td>\n",
       "      <td>383.5</td>\n",
       "      <td>712.25</td>\n",
       "      <td>5644.0</td>\n",
       "    </tr>\n",
       "    <tr>\n",
       "      <th>BsmtFinSF2</th>\n",
       "      <td>1460.0</td>\n",
       "      <td>46.549315</td>\n",
       "      <td>161.319273</td>\n",
       "      <td>0.0</td>\n",
       "      <td>0.00</td>\n",
       "      <td>0.0</td>\n",
       "      <td>0.00</td>\n",
       "      <td>1474.0</td>\n",
       "    </tr>\n",
       "    <tr>\n",
       "      <th>BsmtUnfSF</th>\n",
       "      <td>1460.0</td>\n",
       "      <td>567.240411</td>\n",
       "      <td>441.866955</td>\n",
       "      <td>0.0</td>\n",
       "      <td>223.00</td>\n",
       "      <td>477.5</td>\n",
       "      <td>808.00</td>\n",
       "      <td>2336.0</td>\n",
       "    </tr>\n",
       "    <tr>\n",
       "      <th>TotalBsmtSF</th>\n",
       "      <td>1460.0</td>\n",
       "      <td>1057.429452</td>\n",
       "      <td>438.705324</td>\n",
       "      <td>0.0</td>\n",
       "      <td>795.75</td>\n",
       "      <td>991.5</td>\n",
       "      <td>1298.25</td>\n",
       "      <td>6110.0</td>\n",
       "    </tr>\n",
       "    <tr>\n",
       "      <th>1stFlrSF</th>\n",
       "      <td>1460.0</td>\n",
       "      <td>1162.626712</td>\n",
       "      <td>386.587738</td>\n",
       "      <td>334.0</td>\n",
       "      <td>882.00</td>\n",
       "      <td>1087.0</td>\n",
       "      <td>1391.25</td>\n",
       "      <td>4692.0</td>\n",
       "    </tr>\n",
       "    <tr>\n",
       "      <th>2ndFlrSF</th>\n",
       "      <td>1460.0</td>\n",
       "      <td>346.992466</td>\n",
       "      <td>436.528436</td>\n",
       "      <td>0.0</td>\n",
       "      <td>0.00</td>\n",
       "      <td>0.0</td>\n",
       "      <td>728.00</td>\n",
       "      <td>2065.0</td>\n",
       "    </tr>\n",
       "    <tr>\n",
       "      <th>LowQualFinSF</th>\n",
       "      <td>1460.0</td>\n",
       "      <td>5.844521</td>\n",
       "      <td>48.623081</td>\n",
       "      <td>0.0</td>\n",
       "      <td>0.00</td>\n",
       "      <td>0.0</td>\n",
       "      <td>0.00</td>\n",
       "      <td>572.0</td>\n",
       "    </tr>\n",
       "    <tr>\n",
       "      <th>GrLivArea</th>\n",
       "      <td>1460.0</td>\n",
       "      <td>1515.463699</td>\n",
       "      <td>525.480383</td>\n",
       "      <td>334.0</td>\n",
       "      <td>1129.50</td>\n",
       "      <td>1464.0</td>\n",
       "      <td>1776.75</td>\n",
       "      <td>5642.0</td>\n",
       "    </tr>\n",
       "    <tr>\n",
       "      <th>BsmtFullBath</th>\n",
       "      <td>1460.0</td>\n",
       "      <td>0.425342</td>\n",
       "      <td>0.518911</td>\n",
       "      <td>0.0</td>\n",
       "      <td>0.00</td>\n",
       "      <td>0.0</td>\n",
       "      <td>1.00</td>\n",
       "      <td>3.0</td>\n",
       "    </tr>\n",
       "    <tr>\n",
       "      <th>BsmtHalfBath</th>\n",
       "      <td>1460.0</td>\n",
       "      <td>0.057534</td>\n",
       "      <td>0.238753</td>\n",
       "      <td>0.0</td>\n",
       "      <td>0.00</td>\n",
       "      <td>0.0</td>\n",
       "      <td>0.00</td>\n",
       "      <td>2.0</td>\n",
       "    </tr>\n",
       "    <tr>\n",
       "      <th>FullBath</th>\n",
       "      <td>1460.0</td>\n",
       "      <td>1.565068</td>\n",
       "      <td>0.550916</td>\n",
       "      <td>0.0</td>\n",
       "      <td>1.00</td>\n",
       "      <td>2.0</td>\n",
       "      <td>2.00</td>\n",
       "      <td>3.0</td>\n",
       "    </tr>\n",
       "    <tr>\n",
       "      <th>HalfBath</th>\n",
       "      <td>1460.0</td>\n",
       "      <td>0.382877</td>\n",
       "      <td>0.502885</td>\n",
       "      <td>0.0</td>\n",
       "      <td>0.00</td>\n",
       "      <td>0.0</td>\n",
       "      <td>1.00</td>\n",
       "      <td>2.0</td>\n",
       "    </tr>\n",
       "    <tr>\n",
       "      <th>BedroomAbvGr</th>\n",
       "      <td>1460.0</td>\n",
       "      <td>2.866438</td>\n",
       "      <td>0.815778</td>\n",
       "      <td>0.0</td>\n",
       "      <td>2.00</td>\n",
       "      <td>3.0</td>\n",
       "      <td>3.00</td>\n",
       "      <td>8.0</td>\n",
       "    </tr>\n",
       "    <tr>\n",
       "      <th>KitchenAbvGr</th>\n",
       "      <td>1460.0</td>\n",
       "      <td>1.046575</td>\n",
       "      <td>0.220338</td>\n",
       "      <td>0.0</td>\n",
       "      <td>1.00</td>\n",
       "      <td>1.0</td>\n",
       "      <td>1.00</td>\n",
       "      <td>3.0</td>\n",
       "    </tr>\n",
       "    <tr>\n",
       "      <th>TotRmsAbvGrd</th>\n",
       "      <td>1460.0</td>\n",
       "      <td>6.517808</td>\n",
       "      <td>1.625393</td>\n",
       "      <td>2.0</td>\n",
       "      <td>5.00</td>\n",
       "      <td>6.0</td>\n",
       "      <td>7.00</td>\n",
       "      <td>14.0</td>\n",
       "    </tr>\n",
       "    <tr>\n",
       "      <th>Fireplaces</th>\n",
       "      <td>1460.0</td>\n",
       "      <td>0.613014</td>\n",
       "      <td>0.644666</td>\n",
       "      <td>0.0</td>\n",
       "      <td>0.00</td>\n",
       "      <td>1.0</td>\n",
       "      <td>1.00</td>\n",
       "      <td>3.0</td>\n",
       "    </tr>\n",
       "    <tr>\n",
       "      <th>GarageCars</th>\n",
       "      <td>1460.0</td>\n",
       "      <td>1.767123</td>\n",
       "      <td>0.747315</td>\n",
       "      <td>0.0</td>\n",
       "      <td>1.00</td>\n",
       "      <td>2.0</td>\n",
       "      <td>2.00</td>\n",
       "      <td>4.0</td>\n",
       "    </tr>\n",
       "    <tr>\n",
       "      <th>GarageArea</th>\n",
       "      <td>1460.0</td>\n",
       "      <td>472.980137</td>\n",
       "      <td>213.804841</td>\n",
       "      <td>0.0</td>\n",
       "      <td>334.50</td>\n",
       "      <td>480.0</td>\n",
       "      <td>576.00</td>\n",
       "      <td>1418.0</td>\n",
       "    </tr>\n",
       "    <tr>\n",
       "      <th>WoodDeckSF</th>\n",
       "      <td>1460.0</td>\n",
       "      <td>94.244521</td>\n",
       "      <td>125.338794</td>\n",
       "      <td>0.0</td>\n",
       "      <td>0.00</td>\n",
       "      <td>0.0</td>\n",
       "      <td>168.00</td>\n",
       "      <td>857.0</td>\n",
       "    </tr>\n",
       "    <tr>\n",
       "      <th>OpenPorchSF</th>\n",
       "      <td>1460.0</td>\n",
       "      <td>46.660274</td>\n",
       "      <td>66.256028</td>\n",
       "      <td>0.0</td>\n",
       "      <td>0.00</td>\n",
       "      <td>25.0</td>\n",
       "      <td>68.00</td>\n",
       "      <td>547.0</td>\n",
       "    </tr>\n",
       "    <tr>\n",
       "      <th>EnclosedPorch</th>\n",
       "      <td>1460.0</td>\n",
       "      <td>21.954110</td>\n",
       "      <td>61.119149</td>\n",
       "      <td>0.0</td>\n",
       "      <td>0.00</td>\n",
       "      <td>0.0</td>\n",
       "      <td>0.00</td>\n",
       "      <td>552.0</td>\n",
       "    </tr>\n",
       "    <tr>\n",
       "      <th>3SsnPorch</th>\n",
       "      <td>1460.0</td>\n",
       "      <td>3.409589</td>\n",
       "      <td>29.317331</td>\n",
       "      <td>0.0</td>\n",
       "      <td>0.00</td>\n",
       "      <td>0.0</td>\n",
       "      <td>0.00</td>\n",
       "      <td>508.0</td>\n",
       "    </tr>\n",
       "    <tr>\n",
       "      <th>ScreenPorch</th>\n",
       "      <td>1460.0</td>\n",
       "      <td>15.060959</td>\n",
       "      <td>55.757415</td>\n",
       "      <td>0.0</td>\n",
       "      <td>0.00</td>\n",
       "      <td>0.0</td>\n",
       "      <td>0.00</td>\n",
       "      <td>480.0</td>\n",
       "    </tr>\n",
       "    <tr>\n",
       "      <th>PoolArea</th>\n",
       "      <td>1460.0</td>\n",
       "      <td>2.758904</td>\n",
       "      <td>40.177307</td>\n",
       "      <td>0.0</td>\n",
       "      <td>0.00</td>\n",
       "      <td>0.0</td>\n",
       "      <td>0.00</td>\n",
       "      <td>738.0</td>\n",
       "    </tr>\n",
       "    <tr>\n",
       "      <th>MiscVal</th>\n",
       "      <td>1460.0</td>\n",
       "      <td>43.489041</td>\n",
       "      <td>496.123024</td>\n",
       "      <td>0.0</td>\n",
       "      <td>0.00</td>\n",
       "      <td>0.0</td>\n",
       "      <td>0.00</td>\n",
       "      <td>15500.0</td>\n",
       "    </tr>\n",
       "    <tr>\n",
       "      <th>MoSold</th>\n",
       "      <td>1460.0</td>\n",
       "      <td>6.321918</td>\n",
       "      <td>2.703626</td>\n",
       "      <td>1.0</td>\n",
       "      <td>5.00</td>\n",
       "      <td>6.0</td>\n",
       "      <td>8.00</td>\n",
       "      <td>12.0</td>\n",
       "    </tr>\n",
       "    <tr>\n",
       "      <th>YrSold</th>\n",
       "      <td>1460.0</td>\n",
       "      <td>2007.815753</td>\n",
       "      <td>1.328095</td>\n",
       "      <td>2006.0</td>\n",
       "      <td>2007.00</td>\n",
       "      <td>2008.0</td>\n",
       "      <td>2009.00</td>\n",
       "      <td>2010.0</td>\n",
       "    </tr>\n",
       "  </tbody>\n",
       "</table>\n",
       "</div>"
      ],
      "text/plain": [
       "                count          mean          std     min      25%     50%  \\\n",
       "MSSubClass     1460.0     56.897260    42.300571    20.0    20.00    50.0   \n",
       "LotArea        1460.0  10516.828082  9981.264932  1300.0  7553.50  9478.5   \n",
       "OverallQual    1460.0      6.099315     1.382997     1.0     5.00     6.0   \n",
       "OverallCond    1460.0      5.575342     1.112799     1.0     5.00     5.0   \n",
       "YearBuilt      1460.0   1971.267808    30.202904  1872.0  1954.00  1973.0   \n",
       "YearRemodAdd   1460.0   1984.865753    20.645407  1950.0  1967.00  1994.0   \n",
       "BsmtFinSF1     1460.0    443.639726   456.098091     0.0     0.00   383.5   \n",
       "BsmtFinSF2     1460.0     46.549315   161.319273     0.0     0.00     0.0   \n",
       "BsmtUnfSF      1460.0    567.240411   441.866955     0.0   223.00   477.5   \n",
       "TotalBsmtSF    1460.0   1057.429452   438.705324     0.0   795.75   991.5   \n",
       "1stFlrSF       1460.0   1162.626712   386.587738   334.0   882.00  1087.0   \n",
       "2ndFlrSF       1460.0    346.992466   436.528436     0.0     0.00     0.0   \n",
       "LowQualFinSF   1460.0      5.844521    48.623081     0.0     0.00     0.0   \n",
       "GrLivArea      1460.0   1515.463699   525.480383   334.0  1129.50  1464.0   \n",
       "BsmtFullBath   1460.0      0.425342     0.518911     0.0     0.00     0.0   \n",
       "BsmtHalfBath   1460.0      0.057534     0.238753     0.0     0.00     0.0   \n",
       "FullBath       1460.0      1.565068     0.550916     0.0     1.00     2.0   \n",
       "HalfBath       1460.0      0.382877     0.502885     0.0     0.00     0.0   \n",
       "BedroomAbvGr   1460.0      2.866438     0.815778     0.0     2.00     3.0   \n",
       "KitchenAbvGr   1460.0      1.046575     0.220338     0.0     1.00     1.0   \n",
       "TotRmsAbvGrd   1460.0      6.517808     1.625393     2.0     5.00     6.0   \n",
       "Fireplaces     1460.0      0.613014     0.644666     0.0     0.00     1.0   \n",
       "GarageCars     1460.0      1.767123     0.747315     0.0     1.00     2.0   \n",
       "GarageArea     1460.0    472.980137   213.804841     0.0   334.50   480.0   \n",
       "WoodDeckSF     1460.0     94.244521   125.338794     0.0     0.00     0.0   \n",
       "OpenPorchSF    1460.0     46.660274    66.256028     0.0     0.00    25.0   \n",
       "EnclosedPorch  1460.0     21.954110    61.119149     0.0     0.00     0.0   \n",
       "3SsnPorch      1460.0      3.409589    29.317331     0.0     0.00     0.0   \n",
       "ScreenPorch    1460.0     15.060959    55.757415     0.0     0.00     0.0   \n",
       "PoolArea       1460.0      2.758904    40.177307     0.0     0.00     0.0   \n",
       "MiscVal        1460.0     43.489041   496.123024     0.0     0.00     0.0   \n",
       "MoSold         1460.0      6.321918     2.703626     1.0     5.00     6.0   \n",
       "YrSold         1460.0   2007.815753     1.328095  2006.0  2007.00  2008.0   \n",
       "\n",
       "                    75%       max  \n",
       "MSSubClass        70.00     190.0  \n",
       "LotArea        11601.50  215245.0  \n",
       "OverallQual        7.00      10.0  \n",
       "OverallCond        6.00       9.0  \n",
       "YearBuilt       2000.00    2010.0  \n",
       "YearRemodAdd    2004.00    2010.0  \n",
       "BsmtFinSF1       712.25    5644.0  \n",
       "BsmtFinSF2         0.00    1474.0  \n",
       "BsmtUnfSF        808.00    2336.0  \n",
       "TotalBsmtSF     1298.25    6110.0  \n",
       "1stFlrSF        1391.25    4692.0  \n",
       "2ndFlrSF         728.00    2065.0  \n",
       "LowQualFinSF       0.00     572.0  \n",
       "GrLivArea       1776.75    5642.0  \n",
       "BsmtFullBath       1.00       3.0  \n",
       "BsmtHalfBath       0.00       2.0  \n",
       "FullBath           2.00       3.0  \n",
       "HalfBath           1.00       2.0  \n",
       "BedroomAbvGr       3.00       8.0  \n",
       "KitchenAbvGr       1.00       3.0  \n",
       "TotRmsAbvGrd       7.00      14.0  \n",
       "Fireplaces         1.00       3.0  \n",
       "GarageCars         2.00       4.0  \n",
       "GarageArea       576.00    1418.0  \n",
       "WoodDeckSF       168.00     857.0  \n",
       "OpenPorchSF       68.00     547.0  \n",
       "EnclosedPorch      0.00     552.0  \n",
       "3SsnPorch          0.00     508.0  \n",
       "ScreenPorch        0.00     480.0  \n",
       "PoolArea           0.00     738.0  \n",
       "MiscVal            0.00   15500.0  \n",
       "MoSold             8.00      12.0  \n",
       "YrSold          2009.00    2010.0  "
      ]
     },
     "execution_count": 9,
     "metadata": {},
     "output_type": "execute_result"
    }
   ],
   "source": [
    "housePrice.describe().T"
   ]
  },
  {
   "cell_type": "code",
   "execution_count": 10,
   "id": "3d8e1166",
   "metadata": {},
   "outputs": [
    {
     "data": {
      "text/plain": [
       "56.897260273972606"
      ]
     },
     "execution_count": 10,
     "metadata": {},
     "output_type": "execute_result"
    }
   ],
   "source": [
    "housePrice['MSSubClass'].mean()"
   ]
  },
  {
   "cell_type": "code",
   "execution_count": 11,
   "id": "1f5c3938",
   "metadata": {},
   "outputs": [
    {
     "data": {
      "text/html": [
       "<div>\n",
       "<style scoped>\n",
       "    .dataframe tbody tr th:only-of-type {\n",
       "        vertical-align: middle;\n",
       "    }\n",
       "\n",
       "    .dataframe tbody tr th {\n",
       "        vertical-align: top;\n",
       "    }\n",
       "\n",
       "    .dataframe thead th {\n",
       "        text-align: right;\n",
       "    }\n",
       "</style>\n",
       "<table border=\"1\" class=\"dataframe\">\n",
       "  <thead>\n",
       "    <tr style=\"text-align: right;\">\n",
       "      <th></th>\n",
       "      <th>MSSubClass</th>\n",
       "      <th>MSZoning</th>\n",
       "      <th>LotFrontage</th>\n",
       "      <th>LotArea</th>\n",
       "      <th>Street</th>\n",
       "      <th>Alley</th>\n",
       "      <th>LotShape</th>\n",
       "      <th>LandContour</th>\n",
       "      <th>Utilities</th>\n",
       "      <th>LotConfig</th>\n",
       "      <th>...</th>\n",
       "      <th>PoolArea</th>\n",
       "      <th>PoolQC</th>\n",
       "      <th>Fence</th>\n",
       "      <th>MiscFeature</th>\n",
       "      <th>MiscVal</th>\n",
       "      <th>MoSold</th>\n",
       "      <th>YrSold</th>\n",
       "      <th>SaleType</th>\n",
       "      <th>SaleCondition</th>\n",
       "      <th>PriceLabel</th>\n",
       "    </tr>\n",
       "  </thead>\n",
       "  <tbody>\n",
       "    <tr>\n",
       "      <th>0</th>\n",
       "      <td>False</td>\n",
       "      <td>False</td>\n",
       "      <td>False</td>\n",
       "      <td>False</td>\n",
       "      <td>False</td>\n",
       "      <td>False</td>\n",
       "      <td>False</td>\n",
       "      <td>False</td>\n",
       "      <td>False</td>\n",
       "      <td>False</td>\n",
       "      <td>...</td>\n",
       "      <td>False</td>\n",
       "      <td>False</td>\n",
       "      <td>False</td>\n",
       "      <td>False</td>\n",
       "      <td>False</td>\n",
       "      <td>False</td>\n",
       "      <td>False</td>\n",
       "      <td>False</td>\n",
       "      <td>False</td>\n",
       "      <td>False</td>\n",
       "    </tr>\n",
       "    <tr>\n",
       "      <th>1</th>\n",
       "      <td>False</td>\n",
       "      <td>False</td>\n",
       "      <td>False</td>\n",
       "      <td>False</td>\n",
       "      <td>False</td>\n",
       "      <td>False</td>\n",
       "      <td>False</td>\n",
       "      <td>False</td>\n",
       "      <td>False</td>\n",
       "      <td>False</td>\n",
       "      <td>...</td>\n",
       "      <td>False</td>\n",
       "      <td>False</td>\n",
       "      <td>False</td>\n",
       "      <td>False</td>\n",
       "      <td>False</td>\n",
       "      <td>False</td>\n",
       "      <td>False</td>\n",
       "      <td>False</td>\n",
       "      <td>False</td>\n",
       "      <td>False</td>\n",
       "    </tr>\n",
       "    <tr>\n",
       "      <th>2</th>\n",
       "      <td>False</td>\n",
       "      <td>False</td>\n",
       "      <td>False</td>\n",
       "      <td>False</td>\n",
       "      <td>False</td>\n",
       "      <td>False</td>\n",
       "      <td>False</td>\n",
       "      <td>False</td>\n",
       "      <td>False</td>\n",
       "      <td>False</td>\n",
       "      <td>...</td>\n",
       "      <td>False</td>\n",
       "      <td>False</td>\n",
       "      <td>False</td>\n",
       "      <td>False</td>\n",
       "      <td>False</td>\n",
       "      <td>False</td>\n",
       "      <td>False</td>\n",
       "      <td>False</td>\n",
       "      <td>False</td>\n",
       "      <td>False</td>\n",
       "    </tr>\n",
       "    <tr>\n",
       "      <th>3</th>\n",
       "      <td>False</td>\n",
       "      <td>False</td>\n",
       "      <td>False</td>\n",
       "      <td>False</td>\n",
       "      <td>False</td>\n",
       "      <td>False</td>\n",
       "      <td>False</td>\n",
       "      <td>False</td>\n",
       "      <td>False</td>\n",
       "      <td>False</td>\n",
       "      <td>...</td>\n",
       "      <td>False</td>\n",
       "      <td>False</td>\n",
       "      <td>False</td>\n",
       "      <td>False</td>\n",
       "      <td>False</td>\n",
       "      <td>False</td>\n",
       "      <td>False</td>\n",
       "      <td>False</td>\n",
       "      <td>False</td>\n",
       "      <td>False</td>\n",
       "    </tr>\n",
       "    <tr>\n",
       "      <th>4</th>\n",
       "      <td>False</td>\n",
       "      <td>False</td>\n",
       "      <td>False</td>\n",
       "      <td>False</td>\n",
       "      <td>False</td>\n",
       "      <td>False</td>\n",
       "      <td>False</td>\n",
       "      <td>False</td>\n",
       "      <td>False</td>\n",
       "      <td>False</td>\n",
       "      <td>...</td>\n",
       "      <td>False</td>\n",
       "      <td>False</td>\n",
       "      <td>False</td>\n",
       "      <td>False</td>\n",
       "      <td>False</td>\n",
       "      <td>False</td>\n",
       "      <td>False</td>\n",
       "      <td>False</td>\n",
       "      <td>False</td>\n",
       "      <td>False</td>\n",
       "    </tr>\n",
       "    <tr>\n",
       "      <th>...</th>\n",
       "      <td>...</td>\n",
       "      <td>...</td>\n",
       "      <td>...</td>\n",
       "      <td>...</td>\n",
       "      <td>...</td>\n",
       "      <td>...</td>\n",
       "      <td>...</td>\n",
       "      <td>...</td>\n",
       "      <td>...</td>\n",
       "      <td>...</td>\n",
       "      <td>...</td>\n",
       "      <td>...</td>\n",
       "      <td>...</td>\n",
       "      <td>...</td>\n",
       "      <td>...</td>\n",
       "      <td>...</td>\n",
       "      <td>...</td>\n",
       "      <td>...</td>\n",
       "      <td>...</td>\n",
       "      <td>...</td>\n",
       "      <td>...</td>\n",
       "    </tr>\n",
       "    <tr>\n",
       "      <th>1455</th>\n",
       "      <td>False</td>\n",
       "      <td>False</td>\n",
       "      <td>False</td>\n",
       "      <td>False</td>\n",
       "      <td>False</td>\n",
       "      <td>False</td>\n",
       "      <td>False</td>\n",
       "      <td>False</td>\n",
       "      <td>False</td>\n",
       "      <td>False</td>\n",
       "      <td>...</td>\n",
       "      <td>False</td>\n",
       "      <td>False</td>\n",
       "      <td>False</td>\n",
       "      <td>False</td>\n",
       "      <td>False</td>\n",
       "      <td>False</td>\n",
       "      <td>False</td>\n",
       "      <td>False</td>\n",
       "      <td>False</td>\n",
       "      <td>False</td>\n",
       "    </tr>\n",
       "    <tr>\n",
       "      <th>1456</th>\n",
       "      <td>False</td>\n",
       "      <td>False</td>\n",
       "      <td>False</td>\n",
       "      <td>False</td>\n",
       "      <td>False</td>\n",
       "      <td>False</td>\n",
       "      <td>False</td>\n",
       "      <td>False</td>\n",
       "      <td>False</td>\n",
       "      <td>False</td>\n",
       "      <td>...</td>\n",
       "      <td>False</td>\n",
       "      <td>False</td>\n",
       "      <td>False</td>\n",
       "      <td>False</td>\n",
       "      <td>False</td>\n",
       "      <td>False</td>\n",
       "      <td>False</td>\n",
       "      <td>False</td>\n",
       "      <td>False</td>\n",
       "      <td>False</td>\n",
       "    </tr>\n",
       "    <tr>\n",
       "      <th>1457</th>\n",
       "      <td>False</td>\n",
       "      <td>False</td>\n",
       "      <td>False</td>\n",
       "      <td>False</td>\n",
       "      <td>False</td>\n",
       "      <td>False</td>\n",
       "      <td>False</td>\n",
       "      <td>False</td>\n",
       "      <td>False</td>\n",
       "      <td>False</td>\n",
       "      <td>...</td>\n",
       "      <td>False</td>\n",
       "      <td>False</td>\n",
       "      <td>False</td>\n",
       "      <td>False</td>\n",
       "      <td>False</td>\n",
       "      <td>False</td>\n",
       "      <td>False</td>\n",
       "      <td>False</td>\n",
       "      <td>False</td>\n",
       "      <td>False</td>\n",
       "    </tr>\n",
       "    <tr>\n",
       "      <th>1458</th>\n",
       "      <td>False</td>\n",
       "      <td>False</td>\n",
       "      <td>False</td>\n",
       "      <td>False</td>\n",
       "      <td>False</td>\n",
       "      <td>False</td>\n",
       "      <td>False</td>\n",
       "      <td>False</td>\n",
       "      <td>False</td>\n",
       "      <td>False</td>\n",
       "      <td>...</td>\n",
       "      <td>False</td>\n",
       "      <td>False</td>\n",
       "      <td>False</td>\n",
       "      <td>False</td>\n",
       "      <td>False</td>\n",
       "      <td>False</td>\n",
       "      <td>False</td>\n",
       "      <td>False</td>\n",
       "      <td>False</td>\n",
       "      <td>False</td>\n",
       "    </tr>\n",
       "    <tr>\n",
       "      <th>1459</th>\n",
       "      <td>False</td>\n",
       "      <td>False</td>\n",
       "      <td>False</td>\n",
       "      <td>False</td>\n",
       "      <td>False</td>\n",
       "      <td>False</td>\n",
       "      <td>False</td>\n",
       "      <td>False</td>\n",
       "      <td>False</td>\n",
       "      <td>False</td>\n",
       "      <td>...</td>\n",
       "      <td>False</td>\n",
       "      <td>False</td>\n",
       "      <td>False</td>\n",
       "      <td>False</td>\n",
       "      <td>False</td>\n",
       "      <td>False</td>\n",
       "      <td>False</td>\n",
       "      <td>False</td>\n",
       "      <td>False</td>\n",
       "      <td>False</td>\n",
       "    </tr>\n",
       "  </tbody>\n",
       "</table>\n",
       "<p>1460 rows × 80 columns</p>\n",
       "</div>"
      ],
      "text/plain": [
       "      MSSubClass  MSZoning  LotFrontage  LotArea  Street  Alley  LotShape  \\\n",
       "0          False     False        False    False   False  False     False   \n",
       "1          False     False        False    False   False  False     False   \n",
       "2          False     False        False    False   False  False     False   \n",
       "3          False     False        False    False   False  False     False   \n",
       "4          False     False        False    False   False  False     False   \n",
       "...          ...       ...          ...      ...     ...    ...       ...   \n",
       "1455       False     False        False    False   False  False     False   \n",
       "1456       False     False        False    False   False  False     False   \n",
       "1457       False     False        False    False   False  False     False   \n",
       "1458       False     False        False    False   False  False     False   \n",
       "1459       False     False        False    False   False  False     False   \n",
       "\n",
       "      LandContour  Utilities  LotConfig  ...  PoolArea  PoolQC  Fence  \\\n",
       "0           False      False      False  ...     False   False  False   \n",
       "1           False      False      False  ...     False   False  False   \n",
       "2           False      False      False  ...     False   False  False   \n",
       "3           False      False      False  ...     False   False  False   \n",
       "4           False      False      False  ...     False   False  False   \n",
       "...           ...        ...        ...  ...       ...     ...    ...   \n",
       "1455        False      False      False  ...     False   False  False   \n",
       "1456        False      False      False  ...     False   False  False   \n",
       "1457        False      False      False  ...     False   False  False   \n",
       "1458        False      False      False  ...     False   False  False   \n",
       "1459        False      False      False  ...     False   False  False   \n",
       "\n",
       "      MiscFeature  MiscVal  MoSold  YrSold  SaleType  SaleCondition  \\\n",
       "0           False    False   False   False     False          False   \n",
       "1           False    False   False   False     False          False   \n",
       "2           False    False   False   False     False          False   \n",
       "3           False    False   False   False     False          False   \n",
       "4           False    False   False   False     False          False   \n",
       "...           ...      ...     ...     ...       ...            ...   \n",
       "1455        False    False   False   False     False          False   \n",
       "1456        False    False   False   False     False          False   \n",
       "1457        False    False   False   False     False          False   \n",
       "1458        False    False   False   False     False          False   \n",
       "1459        False    False   False   False     False          False   \n",
       "\n",
       "      PriceLabel  \n",
       "0          False  \n",
       "1          False  \n",
       "2          False  \n",
       "3          False  \n",
       "4          False  \n",
       "...          ...  \n",
       "1455       False  \n",
       "1456       False  \n",
       "1457       False  \n",
       "1458       False  \n",
       "1459       False  \n",
       "\n",
       "[1460 rows x 80 columns]"
      ]
     },
     "execution_count": 11,
     "metadata": {},
     "output_type": "execute_result"
    }
   ],
   "source": [
    "housePrice.isnull()"
   ]
  },
  {
   "cell_type": "code",
   "execution_count": 12,
   "id": "7b836e46",
   "metadata": {},
   "outputs": [
    {
     "data": {
      "text/plain": [
       "MSSubClass       0\n",
       "MSZoning         0\n",
       "LotFrontage      0\n",
       "LotArea          0\n",
       "Street           0\n",
       "                ..\n",
       "MoSold           0\n",
       "YrSold           0\n",
       "SaleType         0\n",
       "SaleCondition    0\n",
       "PriceLabel       0\n",
       "Length: 80, dtype: int64"
      ]
     },
     "execution_count": 12,
     "metadata": {},
     "output_type": "execute_result"
    }
   ],
   "source": [
    "housePrice.isnull().sum()"
   ]
  },
  {
   "cell_type": "code",
   "execution_count": 13,
   "id": "1226cf91",
   "metadata": {},
   "outputs": [
    {
     "data": {
      "image/png": "[encoded data removed]",
      "text/plain": [
       "<Figure size 432x288 with 1 Axes>"
      ]
     },
     "metadata": {},
     "output_type": "display_data"
    }
   ],
   "source": [
    "housePrice['PriceLabel'].value_counts().plot(kind = 'bar', color = ['red', 'blue', 'green'])\n",
    "plt.show()"
   ]
  },
  {
   "cell_type": "code",
   "execution_count": 14,
   "id": "8411c634",
   "metadata": {},
   "outputs": [
    {
     "name": "stdout",
     "output_type": "stream",
     "text": [
      "Balanced dataset shape: (345, 80)\n"
     ]
    },
    {
     "data": {
      "image/png": "[encoded data removed]",
      "text/plain": [
       "<Figure size 432x288 with 1 Axes>"
      ]
     },
     "metadata": {},
     "output_type": "display_data"
    }
   ],
   "source": [
    "from sklearn.utils import resample\n",
    "housePrice_low = housePrice[housePrice.PriceLabel=='LOW']\n",
    "housePrice_medium = housePrice[housePrice.PriceLabel=='MEDIUM']\n",
    "housePrice_high = housePrice[housePrice.PriceLabel=='HIGH']\n",
    "housePrice_low_downsampled = resample(housePrice_low,\n",
    "                                   replace=False,\n",
    "                                   n_samples=len(housePrice_high),\n",
    "                                   random_state=42)\n",
    "\n",
    "housePrice_medium_downsampled = resample(housePrice_medium,\n",
    "                                   replace=False,\n",
    "                                   n_samples=len(housePrice_high),\n",
    "                                   random_state=42)\n",
    "\n",
    "housePrice_balanced = pd.concat([housePrice_low_downsampled, housePrice_high,housePrice_medium_downsampled])\n",
    "\n",
    "print(f'Balanced dataset shape: {housePrice_balanced.shape}')\n",
    "housePrice_balanced['PriceLabel'].value_counts().plot(kind = 'bar', color = ['red', 'blue', 'green'])\n",
    "plt.show()"
   ]
  },
  {
   "cell_type": "code",
   "execution_count": 15,
   "id": "105d18e9",
   "metadata": {},
   "outputs": [
    {
     "data": {
      "image/png": "[encoded data removed]",
      "text/plain": [
       "<Figure size 720x1440 with 33 Axes>"
      ]
     },
     "metadata": {},
     "output_type": "display_data"
    }
   ],
   "source": [
    "# set the value to object which shows in number(eg. MSSubClass is number but represent as catagory)\n",
    "housePrice['MSSubClass'] = housePrice['MSSubClass'].astype(object)\n",
    "    \n",
    "\n",
    "# plot the Histogram\n",
    "fig, ax = plt.subplots(11, 3, figsize = (10, 20))\n",
    "series_list = []\n",
    "for col in housePrice.columns:\n",
    "    series_list.append(housePrice[col])\n",
    "index = 0\n",
    "for i in range(11):\n",
    "    for j in range(3):\n",
    "        series_list[index].hist(ax = ax[i, j], legend=True)\n",
    "        index += 1\n",
    "plt.show()"
   ]
  },
  {
   "cell_type": "code",
   "execution_count": 16,
   "id": "4b6854ec",
   "metadata": {},
   "outputs": [
    {
     "data": {
      "image/png": "[encoded data removed]",
      "text/plain": [
       "<Figure size 797.5x720 with 20 Axes>"
      ]
     },
     "metadata": {},
     "output_type": "display_data"
    }
   ],
   "source": [
    "data = housePrice[['LotFrontage', 'LotArea', 'YearBuilt', 'TotalBsmtSF', 'GarageArea','Neighborhood','PriceLabel']]\n",
    "sn.pairplot(data, hue = 'PriceLabel')\n",
    "plt.show()"
   ]
  },
  {
   "cell_type": "code",
   "execution_count": null,
   "id": "37cf5444",
   "metadata": {},
   "outputs": [],
   "source": [
    "plt.figure(figsize = (15, 15))\n",
    "sn.heatmap(housePrice.corr(), annot=True, cmap='magma', fmt='.2f')\n",
    "plt.show()"
   ]
  },
  {
   "cell_type": "code",
   "execution_count": null,
   "id": "b6543cdd",
   "metadata": {
    "scrolled": false
   },
   "outputs": [],
   "source": [
    "# 6.2 box plot\n",
    "fig, ax = plt.subplots(1, 2, figsize = (15, 7))\n",
    "sn.boxplot(y = 'GrLivArea', x = 'PriceLabel', data = housePrice, ax = ax[0])\n",
    "sn.boxplot(y = 'GarageArea', x = 'PriceLabel', data = housePrice, ax = ax[1])\n",
    "\n",
    "plt.show()"
   ]
  },
  {
   "cell_type": "markdown",
   "id": "beebad4d",
   "metadata": {},
   "source": [
    "# Data preparation\n",
    "\n",
    "## 1. Data Cleaning\n",
    "### 1.1 Fill in missing values"
   ]
  },
  {
   "cell_type": "code",
   "execution_count": null,
   "id": "ca2d0b70",
   "metadata": {},
   "outputs": [],
   "source": [
    "housePrice.isnull().sum()"
   ]
  },
  {
   "cell_type": "markdown",
   "id": "50d80866",
   "metadata": {},
   "source": [
    "**There does not exist missing value**"
   ]
  },
  {
   "cell_type": "markdown",
   "id": "62303d79",
   "metadata": {},
   "source": [
    "### 1.2. Identify and remove noise"
   ]
  },
  {
   "cell_type": "code",
   "execution_count": null,
   "id": "0cd7bca5",
   "metadata": {},
   "outputs": [],
   "source": [
    "housePrice.dtypes"
   ]
  },
  {
   "cell_type": "code",
   "execution_count": null,
   "id": "af51b768",
   "metadata": {},
   "outputs": [],
   "source": [
    "# find out if the str attribute are same to the author's version. \n",
    "for column in housePrice:\n",
    "    if(housePrice.dtypes[column] == 'object'):\n",
    "        columnSeriesObj = housePrice[column]\n",
    "        unique_list = list(set(columnSeriesObj.values))\n",
    "        #print(column , \":\",unique_list)"
   ]
  },
  {
   "cell_type": "code",
   "execution_count": null,
   "id": "cddddea9",
   "metadata": {},
   "outputs": [],
   "source": [
    "housePrice['LotFrontage'].replace('NA', 0, inplace=True)\n",
    "housePrice['LotFrontage'] = housePrice['LotFrontage'].astype(float)\n",
    "housePrice['LotFrontage'].replace(0, housePrice['LotFrontage'].mean(), inplace=True)\n",
    "\n",
    "housePrice['MasVnrArea'].replace('NA', 0, inplace=True)\n",
    "housePrice['MasVnrArea'] = housePrice['MasVnrArea'].astype(float)\n",
    "housePrice['MasVnrArea'].replace(0, housePrice['MasVnrArea'].mean(), inplace=True)\n",
    "\n",
    "housePrice['GarageYrBlt'].replace('NA', 0, inplace=True)\n",
    "housePrice['GarageYrBlt'] = housePrice['GarageYrBlt'].astype(float)\n",
    "housePrice['GarageYrBlt'].replace(0, housePrice['GarageYrBlt'].mean(), inplace=True)\n",
    "\n",
    "\n",
    "    \n",
    "    \n",
    "# find out if the str attribute are same to the author's version. \n",
    "# Check the result again\n",
    "for column in housePrice:\n",
    "    if(housePrice.dtypes[column] == 'object'):\n",
    "        columnSeriesObj = housePrice[column]\n",
    "        unique_list = list(set(columnSeriesObj.values))\n",
    "        #print(column , \":\",unique_list)"
   ]
  },
  {
   "cell_type": "code",
   "execution_count": null,
   "id": "88b0040a",
   "metadata": {
    "scrolled": false
   },
   "outputs": [],
   "source": [
    "for column in housePrice:\n",
    "    if(housePrice.dtypes[column] == 'int64'):\n",
    "        columnSeriesObj = housePrice[column]\n",
    "        unique_list = list(set(columnSeriesObj.values))\n",
    "        #print(column , \":\",unique_list)"
   ]
  },
  {
   "cell_type": "markdown",
   "id": "cb605ed7",
   "metadata": {},
   "source": [
    "### 1.3 correct inconsistencies\n",
    "**Because there only one dataset, so does not exist inconsistencies problem.**"
   ]
  },
  {
   "cell_type": "markdown",
   "id": "832b31a6",
   "metadata": {},
   "source": [
    "### 2. Data integration\n",
    "#### 2.1 Merge data from multiple sources."
   ]
  },
  {
   "cell_type": "code",
   "execution_count": null,
   "id": "6eef6fd0",
   "metadata": {},
   "outputs": [],
   "source": [
    "import math\n",
    "\n",
    "def entropy(labels):\n",
    "    n_labels = len(labels)\n",
    "\n",
    "    if n_labels <= 1:\n",
    "        return 0\n",
    "\n",
    "    # Convert labels to integers\n",
    "    label_dict = {label: i for i, label in enumerate(set(labels))}\n",
    "    labels = [label_dict[label] for label in labels]\n",
    "\n",
    "    counts = np.bincount(labels)\n",
    "    probs = counts / n_labels\n",
    "    n_classes = np.count_nonzero(probs)\n",
    "\n",
    "    if n_classes <= 1:\n",
    "        return 0\n",
    "\n",
    "    ent = 0.\n",
    "\n",
    "    # Compute entropy\n",
    "    for i in probs:\n",
    "        ent -= i * math.log(i, n_classes)\n",
    "\n",
    "    return ent"
   ]
  },
  {
   "cell_type": "code",
   "execution_count": null,
   "id": "c86e61ea",
   "metadata": {},
   "outputs": [],
   "source": [
    "# Feature Subset Selection - remove the irrelevant or redundant features\n",
    "\n",
    "for val in housePrice:\n",
    "    if(entropy(housePrice[val]) < 0.2):\n",
    "        print(val)\n",
    "        housePrice.drop([val], axis=1, inplace=True)"
   ]
  },
  {
   "cell_type": "code",
   "execution_count": null,
   "id": "236d9662",
   "metadata": {},
   "outputs": [],
   "source": [
    "housePrice.info()"
   ]
  },
  {
   "cell_type": "code",
   "execution_count": null,
   "id": "6a49c5ed",
   "metadata": {
    "scrolled": true
   },
   "outputs": [],
   "source": [
    "# Feature creation\n",
    "# conbine OverallQual+OverallCond \n",
    "# OverallQual: Rates the overall material and finish of the house\n",
    "# OverallCond: Rates the overall condition of the house\n",
    "housePrice['OverallQualCond'] = housePrice['OverallQual'] + housePrice['OverallCond']\n",
    "housePrice.drop(['OverallQual'], axis=1, inplace=True)\n",
    "housePrice.drop(['OverallCond'], axis=1, inplace=True)\n",
    "\n",
    "# aggregation operation on quantitative attribute\n",
    "# todo\n",
    "housePrice.groupby(['YearBuilt']).mean()\n"
   ]
  },
  {
   "cell_type": "code",
   "execution_count": null,
   "id": "e054ecf9",
   "metadata": {},
   "outputs": [],
   "source": [
    "housePrice.dtypes"
   ]
  },
  {
   "cell_type": "markdown",
   "id": "82c08806",
   "metadata": {},
   "source": [
    "### 3. Data Transformation\n",
    "#### 3.1 Normalization\n"
   ]
  },
  {
   "cell_type": "code",
   "execution_count": null,
   "id": "1cda664a",
   "metadata": {},
   "outputs": [],
   "source": [
    "housePrice"
   ]
  },
  {
   "cell_type": "markdown",
   "id": "8cad9029",
   "metadata": {},
   "source": [
    "## Modeling"
   ]
  },
  {
   "cell_type": "markdown",
   "id": "d7bc5915",
   "metadata": {},
   "source": [
    "### Random Forest"
   ]
  },
  {
   "cell_type": "code",
   "execution_count": null,
   "id": "0604be49",
   "metadata": {},
   "outputs": [],
   "source": [
    "models = []"
   ]
  },
  {
   "cell_type": "code",
   "execution_count": null,
   "id": "b9d39fbe",
   "metadata": {},
   "outputs": [],
   "source": [
    "def make_confusion_matrix(cf, categories='auto', cbar=True, cmap='Blues', title=None):\n",
    "    group_counts = [f'{value}\\n' for value in cf.flatten()]\n",
    "\n",
    "    box_labels = [f'{v1}'.strip() for v1 in group_counts]\n",
    "    box_labels = np.asarray(box_labels).reshape(cf.shape[0],cf.shape[1])\n",
    "\n",
    "    sn.heatmap(cf, annot=box_labels, fmt='', cmap=cmap, cbar=cbar, xticklabels=categories, yticklabels=categories)\n",
    "\n",
    "    \n",
    "    plt.ylabel('True label')\n",
    "    plt.xlabel('Predicted label')\n",
    "    \n",
    "    if title:\n",
    "        plt.title(title)"
   ]
  },
  {
   "cell_type": "code",
   "execution_count": null,
   "id": "788e6ca5",
   "metadata": {},
   "outputs": [],
   "source": [
    "from sklearn.model_selection import KFold\n",
    "from sklearn.ensemble import RandomForestClassifier\n",
    "from sklearn.metrics import accuracy_score\n",
    "from sklearn.preprocessing import OneHotEncoder\n",
    "from joblib import dump\n",
    "import random\n",
    "\n",
    "X = housePrice.drop('PriceLabel', axis=1)\n",
    "y = housePrice['PriceLabel']\n",
    "\n",
    "ohe = OneHotEncoder()\n",
    "X_encoded = ohe.fit_transform(X)\n",
    "X = X_encoded\n",
    "\n",
    "kf = KFold(n_splits=5)\n",
    "# the n_estimators parameter specifies the number of decision trees in the random forest\n",
    "rfc = RandomForestClassifier(n_estimators=30)\n",
    "best_score = 0\n",
    "\n",
    "\n",
    "for train_index, test_index in kf.split(X):\n",
    "    y_train, y_test = y.iloc[train_index], y.iloc[test_index]\n",
    "    X_train, X_test = X[train_index], X[test_index]\n",
    "\n",
    "    rfc.fit(X_train, y_train)\n",
    "    y_pred = rfc.predict(X_test)\n",
    "    score=accuracy_score(y_test, y_pred)\n",
    "    if score > best_score:\n",
    "        best_score = score\n",
    "        best_model = rfc\n",
    "        print(best_score)\n",
    "    \n",
    "dump(best_model, 'random_forest.joblib')"
   ]
  },
  {
   "cell_type": "code",
   "execution_count": null,
   "id": "88d9768b",
   "metadata": {},
   "outputs": [],
   "source": [
    "from sklearn.metrics import confusion_matrix\n",
    "import joblib\n",
    "\n",
    "# Load the saved model\n",
    "model = joblib.load('random_forest.joblib')\n",
    "\n",
    "# Predict the test data\n",
    "y_pred = model.predict(X_test)\n",
    "\n",
    "models.append((\"Random Forest\", model, model.predict_proba(X_test), y_test, y_pred))\n",
    "\n",
    "# Generate the confusion matrix\n",
    "cm = confusion_matrix(y_test, y_pred)\n",
    "print('confusion_matrix\\n',cm)\n"
   ]
  },
  {
   "cell_type": "code",
   "execution_count": null,
   "id": "8ebf3e75",
   "metadata": {},
   "outputs": [],
   "source": [
    "categories = ['LOW', 'MEDIUM', 'HIGH']\n",
    "print(\"Random Forest\")\n",
    "make_confusion_matrix(confusion_matrix(y_test, y_pred), categories=categories, cmap='binary')"
   ]
  },
  {
   "cell_type": "code",
   "execution_count": null,
   "id": "4eeb4976",
   "metadata": {},
   "outputs": [],
   "source": [
    "#print('Accuracy:', accuracy_score(y_test, y_pred))\n",
    "print(\"Accuracy:\",metrics.accuracy_score(y_test, y_pred))\n",
    "print('Randomforest report')\n",
    "print(classification_report(y_test, y_pred))"
   ]
  },
  {
   "cell_type": "code",
   "execution_count": null,
   "id": "cc332153",
   "metadata": {},
   "outputs": [],
   "source": [
    "from sklearn.metrics import roc_curve\n",
    "from sklearn.metrics import auc\n",
    "\n",
    "one_hot_encoding = np.array(pd.get_dummies(y_test, columns = ['PriceLabel']))\n",
    "\n",
    "fpr = dict()\n",
    "tpr = dict()\n",
    "roc_auc = dict()\n",
    "\n",
    "for i in range(len(np.unique(y))):\n",
    "    plt.figure()\n",
    "\n",
    "    fpr[i], tpr[i], _ = roc_curve(one_hot_encoding[:, i], model.predict_proba(X_test)[:, i])\n",
    "        \n",
    "    roc_auc[i] = auc(fpr[i], tpr[i])\n",
    "\n",
    "    plt.plot(fpr[i], tpr[i], lw=5, label=\"Random Forest\" + f' (area = {roc_auc[i]:.2f})')\n",
    "\n",
    "    plt.plot([0, 1], [0, 1], lw=2, linestyle='--')\n",
    "    plt.xlim([0.0, 1.0])\n",
    "    plt.ylim([0.0, 1.0])\n",
    "    plt.xlabel('False Positive Rate')\n",
    "    plt.ylabel('True Positive Rate')\n",
    "    plt.title('Class = ' + str(np.unique(y)[i]))\n",
    "    plt.legend(loc='lower right')\n",
    "\n",
    "    plt.show() "
   ]
  },
  {
   "cell_type": "markdown",
   "id": "55c52fa8",
   "metadata": {},
   "source": [
    "### Neural Network"
   ]
  },
  {
   "cell_type": "markdown",
   "id": "4d12a7f1",
   "metadata": {},
   "source": [
    "Converting categorical values into numeric using the sklearn library and in particular the OneHotEncoding class"
   ]
  },
  {
   "cell_type": "code",
   "execution_count": null,
   "id": "86360c47",
   "metadata": {},
   "outputs": [],
   "source": [
    "X = housePrice.drop('PriceLabel', axis=1)\n",
    "y = housePrice['PriceLabel']\n",
    "\n",
    "ohe = OneHotEncoder()\n",
    "X_encoded = ohe.fit_transform(X)\n",
    "X = X_encoded"
   ]
  },
  {
   "cell_type": "markdown",
   "id": "ab845fe4",
   "metadata": {},
   "source": [
    "Creating a training set and a test set"
   ]
  },
  {
   "cell_type": "code",
   "execution_count": null,
   "id": "d03ec65e",
   "metadata": {},
   "outputs": [],
   "source": [
    "from sklearn.model_selection import train_test_split\n",
    "\n",
    "X_train, X_test, y_train, y_test = train_test_split(X, y, test_size=0.30, random_state=40)\n",
    "print(X_train.shape); print(X_test.shape)"
   ]
  },
  {
   "cell_type": "markdown",
   "id": "9f282dca",
   "metadata": {},
   "source": [
    "Creation of the neural network with parameters tested on different ranges. As an activation function we use 'relu' because it fits better with our training set as a solver we use 'sgd'. The parameters alpha, can be used to control possible 'overfitting' and 'underfitting has been chosen over a range as well as tolerance.\n",
    "\n",
    "mlp.fit allows you to fit the model to the training data\n",
    "mlp.predict allows you to predict the training and test set"
   ]
  },
  {
   "cell_type": "code",
   "execution_count": null,
   "id": "998b03ec",
   "metadata": {},
   "outputs": [],
   "source": [
    "from sklearn.neural_network import MLPClassifier\n",
    "\n",
    "\n",
    "mlp = MLPClassifier(hidden_layer_sizes=(5,5), \n",
    "                        activation='relu', \n",
    "                        random_state=1,\n",
    "                        alpha=0.030888435964774818,\n",
    "                        max_iter=500,\n",
    "                        solver='sgd', \n",
    "                        tol=1e-5,\n",
    "                        learning_rate_init=0.1, \n",
    "                        verbose=False)\n",
    "\n",
    "mlp.fit(X_train,y_train)\n",
    "\n",
    "predict_train_mlp = mlp.predict(X_train)\n",
    "predict_test_mlp = mlp.predict(X_test)\n",
    "\n",
    "models.append((\"Neural Network\", mlp, mlp.predict_proba(X_test), y_test, mlp.predict(X_test)))"
   ]
  },
  {
   "cell_type": "code",
   "execution_count": null,
   "id": "65f61093",
   "metadata": {},
   "outputs": [],
   "source": [
    "from sklearn.metrics import classification_report\n",
    "print(\"PREDICTION TRAINING SET\")\n",
    "print(confusion_matrix(y_train,predict_train_mlp))\n",
    "print(classification_report(y_train,predict_train_mlp))"
   ]
  },
  {
   "cell_type": "code",
   "execution_count": null,
   "id": "e1184ad5",
   "metadata": {},
   "outputs": [],
   "source": [
    "print(\"PREDICTION TEST SET\")\n",
    "print(confusion_matrix(y_test,predict_test_mlp))\n",
    "print(classification_report(y_test,predict_test_mlp))"
   ]
  },
  {
   "cell_type": "code",
   "execution_count": null,
   "id": "0071c9ff",
   "metadata": {},
   "outputs": [],
   "source": [
    "print(f'Accuracy: {accuracy_score(y_test, predict_test_mlp):.2f}')"
   ]
  },
  {
   "cell_type": "markdown",
   "id": "2082c617",
   "metadata": {},
   "source": [
    "#### Evaluation Neural Network"
   ]
  },
  {
   "cell_type": "code",
   "execution_count": null,
   "id": "52727247",
   "metadata": {},
   "outputs": [],
   "source": [
    "def make_confusion_matrix(cf, categories='auto', cbar=True, cmap='Blues', title=None):\n",
    "    group_counts = [f'{value}\\n' for value in cf.flatten()]\n",
    "\n",
    "    box_labels = [f'{v1}'.strip() for v1 in group_counts]\n",
    "    box_labels = np.asarray(box_labels).reshape(cf.shape[0],cf.shape[1])\n",
    "\n",
    "    sn.heatmap(cf, annot=box_labels, fmt='', cmap=cmap, cbar=cbar, xticklabels=categories, yticklabels=categories)\n",
    "\n",
    "    \n",
    "    plt.ylabel('True label')\n",
    "    plt.xlabel('Predicted label')\n",
    "    \n",
    "    if title:\n",
    "        plt.title(title)"
   ]
  },
  {
   "cell_type": "code",
   "execution_count": null,
   "id": "4ee3fedd",
   "metadata": {},
   "outputs": [],
   "source": [
    "categories = ['LOW', 'MEDIUM', 'HIGH']\n",
    "print(\"Neural Network\")\n",
    "make_confusion_matrix(confusion_matrix(y_test, predict_test_mlp), categories=categories, cmap='binary')"
   ]
  },
  {
   "cell_type": "code",
   "execution_count": null,
   "id": "06651027",
   "metadata": {},
   "outputs": [],
   "source": [
    "print('Classification report')\n",
    "print(classification_report(y_test, predict_test_mlp))"
   ]
  },
  {
   "cell_type": "markdown",
   "id": "650c0f2b",
   "metadata": {},
   "source": [
    "Compute the Roc Curve for each class"
   ]
  },
  {
   "cell_type": "code",
   "execution_count": null,
   "id": "a68d2051",
   "metadata": {},
   "outputs": [],
   "source": [
    "one_hot_encoding = np.array(pd.get_dummies(y_test, columns = ['PriceLabel']))"
   ]
  },
  {
   "cell_type": "code",
   "execution_count": null,
   "id": "245d2528",
   "metadata": {},
   "outputs": [],
   "source": [
    "probs = {}\n",
    "\n",
    "probs[\"Neural Network\"] = mlp.predict_proba(X_test)"
   ]
  },
  {
   "cell_type": "code",
   "execution_count": null,
   "id": "a4fd18b0",
   "metadata": {},
   "outputs": [],
   "source": [
    "fpr = dict()\n",
    "tpr = dict()\n",
    "roc_auc = dict()\n",
    "\n",
    "for i in range(len(np.unique(y))):\n",
    "    plt.figure()\n",
    "\n",
    "    fpr[i], tpr[i], _ = roc_curve(one_hot_encoding[:, i], probs[\"Neural Network\"][:, i])\n",
    "        \n",
    "    roc_auc[i] = auc(fpr[i], tpr[i])\n",
    "\n",
    "    plt.plot(fpr[i], tpr[i], lw=3, label=\"Neural Network\" + f' (area = {roc_auc[i]:.2f})')\n",
    "\n",
    "    plt.plot([0, 1], [0, 1], lw=2, linestyle='--')\n",
    "    plt.xlim([0.0, 1.0])\n",
    "    plt.ylim([0.0, 1.0])\n",
    "    plt.xlabel('False Positive Rate')\n",
    "    plt.ylabel('True Positive Rate')\n",
    "    plt.title('Class = ' + str(np.unique(y)[i]))\n",
    "    plt.legend(loc='lower right')\n",
    "\n",
    "    plt.show()  "
   ]
  },
  {
   "cell_type": "code",
   "execution_count": null,
   "id": "aa03f1e6",
   "metadata": {},
   "outputs": [],
   "source": [
    "fpr = dict()\n",
    "tpr = dict()\n",
    "roc_auc = dict()\n",
    "m = 0\n",
    "for i in range(len(np.unique(y))):\n",
    "    plt.figure()\n",
    "\n",
    "    fpr[i], tpr[i], _ = roc_curve(one_hot_encoding[:, i], probs[\"Neural Network\"][:, i])\n",
    "        \n",
    "    print(one_hot_encoding[:, i])\n",
    "    print(probs[\"Neural Network\"][:, i])\n",
    "        \n",
    "    roc_auc[i] = auc(fpr[i], tpr[i])\n",
    "\n",
    "    plt.plot(fpr[i], tpr[i], lw=5, label=\"\" + f' (area = {roc_auc[i]:.2f})')\n",
    "    m += 1\n",
    "        \n",
    "    if m==2:\n",
    "        break\n",
    "    break"
   ]
  },
  {
   "cell_type": "code",
   "execution_count": null,
   "id": "7b1823a3",
   "metadata": {},
   "outputs": [],
   "source": [
    "one_hot_encoding[:, 0]"
   ]
  },
  {
   "cell_type": "code",
   "execution_count": null,
   "id": "edcd8681",
   "metadata": {},
   "outputs": [],
   "source": [
    "probs[\"Neural Network\"][:, 0]"
   ]
  },
  {
   "cell_type": "code",
   "execution_count": null,
   "id": "4b3e2bd7",
   "metadata": {},
   "outputs": [],
   "source": [
    "roc_curve(one_hot_encoding[:, 0], probs[\"Neural Network\"][:, 0])"
   ]
  },
  {
   "cell_type": "markdown",
   "id": "95117522",
   "metadata": {},
   "source": [
    "### Adaboost"
   ]
  },
  {
   "cell_type": "code",
   "execution_count": null,
   "id": "5594f5e1",
   "metadata": {},
   "outputs": [],
   "source": [
    "# Load libraries\n",
    "from sklearn.ensemble import AdaBoostClassifier\n",
    "#Import scikit-learn metrics module for accuracy calculation"
   ]
  },
  {
   "cell_type": "code",
   "execution_count": null,
   "id": "f1ab9b62",
   "metadata": {},
   "outputs": [],
   "source": [
    "# Create adaboost classifer object\n",
    "abc = AdaBoostClassifier(n_estimators=110, learning_rate=1)\n",
    "\n",
    "# Train Adaboost Classifer\n",
    "abc = abc.fit(X_train, y_train)\n",
    "\n",
    "models.append((\"AdaBoost\", abc, abc.predict_proba(X_test), y_test, abc.predict(X_test)))\n",
    "\n",
    "#Predict the response for test dataset\n",
    "y_pred = abc.predict(X_test)"
   ]
  },
  {
   "cell_type": "code",
   "execution_count": null,
   "id": "98f1731b",
   "metadata": {},
   "outputs": [],
   "source": [
    "# Model Accuracy, how often is the classifier correct?\n",
    "print(\"Accuracy:\",metrics.accuracy_score(y_test, y_pred))"
   ]
  },
  {
   "cell_type": "code",
   "execution_count": null,
   "id": "52c4a5dc",
   "metadata": {},
   "outputs": [],
   "source": [
    "predict_train_abc = abc.predict(X_train)\n",
    "predict_test_abc = abc.predict(X_test)"
   ]
  },
  {
   "cell_type": "code",
   "execution_count": null,
   "id": "672c531d",
   "metadata": {},
   "outputs": [],
   "source": [
    "categories = ['LOW', 'MEDIUM', 'HIGH']\n",
    "print(\"AdaBoost\")\n",
    "make_confusion_matrix(confusion_matrix(y_test, predict_test_abc), categories=categories, cmap='binary')"
   ]
  },
  {
   "cell_type": "code",
   "execution_count": null,
   "id": "467bbe6f",
   "metadata": {},
   "outputs": [],
   "source": [
    "print('Classification report')\n",
    "print(classification_report(y_test, predict_test_abc))"
   ]
  },
  {
   "cell_type": "code",
   "execution_count": null,
   "id": "7d0ccc16",
   "metadata": {},
   "outputs": [],
   "source": [
    "probs[\"AdaBoost\"] = abc.predict_proba(X_test)"
   ]
  },
  {
   "cell_type": "code",
   "execution_count": null,
   "id": "565ce90d",
   "metadata": {},
   "outputs": [],
   "source": [
    "fpr = dict()\n",
    "tpr = dict()\n",
    "roc_auc = dict()\n",
    "\n",
    "for i in range(len(np.unique(y))):\n",
    "    plt.figure()\n",
    "\n",
    "    fpr[i], tpr[i], _ = roc_curve(one_hot_encoding[:, i], probs[\"AdaBoost\"][:, i])\n",
    "        \n",
    "    roc_auc[i] = auc(fpr[i], tpr[i])\n",
    "\n",
    "    plt.plot(fpr[i], tpr[i], lw=5, label=\"AdaBoost\" + f' (area = {roc_auc[i]:.2f})')\n",
    "\n",
    "    plt.plot([0, 1], [0, 1], lw=2, linestyle='--')\n",
    "    plt.xlim([0.0, 1.0])\n",
    "    plt.ylim([0.0, 1.0])\n",
    "    plt.xlabel('False Positive Rate')\n",
    "    plt.ylabel('True Positive Rate')\n",
    "    plt.title('Class = ' + str(np.unique(y)[i]))\n",
    "    plt.legend(loc='lower right')\n",
    "\n",
    "    plt.show() "
   ]
  },
  {
   "cell_type": "code",
   "execution_count": null,
   "id": "936fe7bc",
   "metadata": {},
   "outputs": [],
   "source": [
    "fpr = dict()\n",
    "tpr = dict()\n",
    "roc_auc = dict()\n",
    "\n",
    "for i in range(len(np.unique(y))):\n",
    "    plt.figure()\n",
    "\n",
    "    fpr[i], tpr[i], _ = roc_curve(one_hot_encoding[:, i], probs[\"AdaBoost\"][:, i])\n",
    "        \n",
    "    print(one_hot_encoding[:, i])\n",
    "    print(probs[\"AdaBoost\"][:, i])\n",
    "        \n",
    "    roc_auc[i] = auc(fpr[i], tpr[i])\n",
    "\n",
    "    plt.plot(fpr[i], tpr[i], lw=5, label=\"\" + f' (area = {roc_auc[i]:.2f})')\n",
    "    m += 1\n",
    "        \n",
    "    if m==2:\n",
    "        break\n",
    "    break"
   ]
  },
  {
   "cell_type": "code",
   "execution_count": null,
   "id": "a84efc49",
   "metadata": {},
   "outputs": [],
   "source": [
    "one_hot_encoding[:, 0]"
   ]
  },
  {
   "cell_type": "code",
   "execution_count": null,
   "id": "0e59e4b7",
   "metadata": {},
   "outputs": [],
   "source": [
    "probs[\"AdaBoost\"][:, 0]"
   ]
  },
  {
   "cell_type": "code",
   "execution_count": null,
   "id": "f75361a2",
   "metadata": {},
   "outputs": [],
   "source": [
    "roc_curve(one_hot_encoding[:, 0], probs[\"AdaBoost\"][:, 0])"
   ]
  },
  {
   "cell_type": "markdown",
   "id": "537e1374",
   "metadata": {},
   "source": [
    "## Evaluation"
   ]
  },
  {
   "cell_type": "code",
   "execution_count": null,
   "id": "ad58f1ff",
   "metadata": {},
   "outputs": [],
   "source": [
    "import operator\n",
    "\n",
    "accuracy = {}\n",
    "\n",
    "for model in models:\n",
    "    accuracy[model[0]] = metrics.accuracy_score(model[3], model[4])\n",
    "    \n",
    "sorted_accuracy = sorted(accuracy.items(), key=operator.itemgetter(1), reverse=True)\n",
    "\n",
    "for x in sorted_accuracy:\n",
    "     print(\"Accuracy \" + str(x[0]) + \": \" + str(x[1]))"
   ]
  },
  {
   "cell_type": "markdown",
   "id": "005661e8",
   "metadata": {},
   "source": [
    "Compare roc curve models"
   ]
  },
  {
   "cell_type": "code",
   "execution_count": null,
   "id": "ebe2a37a",
   "metadata": {},
   "outputs": [],
   "source": [
    "fpr = dict()\n",
    "tpr = dict()\n",
    "roc_auc = dict()\n",
    "\n",
    "for i in range(len(np.unique(y))):\n",
    "    plt.figure()\n",
    "    for model in models:\n",
    "            one_hot_encoding = np.array(pd.get_dummies(model[3], columns = ['PriceLabel']))\n",
    "        \n",
    "            fpr[i], tpr[i], _ = roc_curve(one_hot_encoding[:, i], model[2][:, i])\n",
    "\n",
    "            roc_auc[i] = auc(fpr[i], tpr[i])\n",
    "            plt.plot(fpr[i], tpr[i], lw=5, label=model[0] + f' (area = {roc_auc[i]:.2f})')\n",
    "\n",
    "    plt.plot([0, 1], [0, 1], lw=2, linestyle='--')\n",
    "    plt.xlim([0.0, 1.0])\n",
    "    plt.ylim([0.0, 1.0])\n",
    "    plt.xlabel('False Positive Rate')\n",
    "    plt.ylabel('True Positive Rate')\n",
    "    plt.title('Class = ' + str(np.unique(y)[i]))\n",
    "    plt.legend(loc='lower right')\n",
    "\n",
    "    plt.show()  "
   ]
  },
  {
   "cell_type": "code",
   "execution_count": null,
   "id": "028eb0f5",
   "metadata": {},
   "outputs": [],
   "source": [
    "fpr = dict()\n",
    "tpr = dict()\n",
    "roc_auc = dict()\n",
    "\n",
    "for i in range(len(np.unique(y))):\n",
    "    plt.figure()\n",
    "\n",
    "    for model in models:\n",
    "        one_hot_encoding = np.array(pd.get_dummies(model[3], columns = ['PriceLabel']))\n",
    "        \n",
    "        fpr[i], tpr[i], _ = roc_curve(one_hot_encoding[:, i], model[2][:, i])\n",
    "        \n",
    "        print(one_hot_encoding[:, i])\n",
    "        \n",
    "        roc_auc[i] = auc(fpr[i], tpr[i])\n",
    "\n",
    "        plt.plot(fpr[i], tpr[i], lw=5, label=model[0] + f' (area = {roc_auc[i]:.2f})')\n",
    "    break\n"
   ]
  },
  {
   "cell_type": "markdown",
   "id": "c5af3a81",
   "metadata": {},
   "source": [
    "#### Business goal\n",
    "###### Find the attributes correlated to the price of the houses"
   ]
  },
  {
   "cell_type": "markdown",
   "id": "6d8603cb",
   "metadata": {},
   "source": [
    "We will restrict our analysis to the continuous attributes, although it would be possible to extend the analysis to the non-continuous ones; the company wants to know te attributes non-continous?"
   ]
  },
  {
   "cell_type": "code",
   "execution_count": null,
   "id": "fb70f212",
   "metadata": {},
   "outputs": [],
   "source": [
    "numerical = [col for col in housePrice.columns if housePrice[col].dtypes != 'O']\n",
    "\n",
    "print(len(numerical))\n",
    "\n",
    "numerical"
   ]
  },
  {
   "cell_type": "markdown",
   "id": "97fc99ee",
   "metadata": {},
   "source": [
    "Not all the numerical features are real, because the features that refers to years aren't numerical, so we'll remove it"
   ]
  },
  {
   "cell_type": "code",
   "execution_count": null,
   "id": "0aa8824a",
   "metadata": {},
   "outputs": [],
   "source": [
    "real_numerical = ['LotFrontage', 'LotArea', 'MasVnrArea', 'BsmtFinSF1', 'BsmtFinSF2', 'BsmtUnfSF', 'TotalBsmtSF', \n",
    "                  '1stFlrSF', '2ndFlrSF', 'LowQualFinSF', 'GrLivArea', 'BsmtFullBath', 'BsmtHalfBath', 'FullBath',\n",
    "                  'HalfBath', 'BedroomAbvGr', 'TotRmsAbvGrd', 'Fireplaces', 'GarageCars', 'GarageArea', 'WoodDeckSF', 'OpenPorchSF',\n",
    "                  'OpenPorchSF', 'EnclosedPorch', '3SsnPorch', 'ScreenPorch', 'PoolArea', 'PriceLabel']\n",
    "\n",
    "# remove the irrelevant or redundant features\n",
    "irrelevant_features = ['Street', 'Utilities', 'Condition2', 'RoofMatl', 'BsmtFinSF2', 'Heating', 'Electrical',\n",
    "                       'LowQualFinSF', 'KitchenAbvGr', 'Functional', '3SsnPorch', 'ScreenPorch', 'PoolArea', \n",
    "                       'PoolQC', 'MiscFeature', 'MiscVal']\n",
    "\n",
    "real_numerical = [feature for feature in real_numerical if (feature not in irrelevant_features )]\n",
    "\n",
    "print(len(real_numerical))\n",
    "\n",
    "for i in real_numerical:\n",
    "    count = 0\n",
    "    for j in housePrice.columns:\n",
    "        if(i == j):\n",
    "            count += 1\n",
    "    if(count != 1):\n",
    "        print(\"Non trovato numerical :\" + str(i) + \" \"+ str(count))"
   ]
  },
  {
   "cell_type": "markdown",
   "id": "2819f05e",
   "metadata": {},
   "source": [
    "We'll consider the data of the numerical features that we selected above"
   ]
  },
  {
   "cell_type": "code",
   "execution_count": null,
   "id": "54956258",
   "metadata": {},
   "outputs": [],
   "source": [
    "housePriceNumerical = housePrice[real_numerical]\n",
    "\n",
    "print(len(housePriceNumerical.columns))\n",
    "\n",
    "housePriceNumerical.dtypes"
   ]
  },
  {
   "cell_type": "markdown",
   "id": "39bca879",
   "metadata": {},
   "source": [
    "Le'ts check if there are some categorical attributes in our numerical data"
   ]
  },
  {
   "cell_type": "code",
   "execution_count": null,
   "id": "5b976c75",
   "metadata": {},
   "outputs": [],
   "source": [
    "categorical = [col for col in housePriceNumerical.columns if housePriceNumerical[col].dtypes.name == 'category' and col != \"PriceLabel\"]\n",
    "\n",
    "print(len(categorical))\n",
    "\n",
    "categorical"
   ]
  },
  {
   "cell_type": "code",
   "execution_count": null,
   "id": "259ef4a1",
   "metadata": {},
   "outputs": [],
   "source": [
    "X = housePriceNumerical.drop('PriceLabel', axis=1)\n",
    "y = housePriceNumerical['PriceLabel']"
   ]
  },
  {
   "cell_type": "markdown",
   "id": "9c0f5e60",
   "metadata": {},
   "source": [
    "Split data into separate training and test set"
   ]
  },
  {
   "cell_type": "code",
   "execution_count": null,
   "id": "98769fe4",
   "metadata": {},
   "outputs": [],
   "source": [
    "X_train, X_test, y_train, y_test = train_test_split(X, y, test_size = 0.3, random_state = 0)"
   ]
  },
  {
   "cell_type": "markdown",
   "id": "0b86d63e",
   "metadata": {},
   "source": [
    "Check the shape of X_train and X_test"
   ]
  },
  {
   "cell_type": "code",
   "execution_count": null,
   "id": "c9e0668c",
   "metadata": {},
   "outputs": [],
   "source": [
    "X_train.shape, X_test.shape"
   ]
  },
  {
   "cell_type": "markdown",
   "id": "61b2908d",
   "metadata": {},
   "source": [
    "Encoding categorical attributes"
   ]
  },
  {
   "cell_type": "code",
   "execution_count": null,
   "id": "e29d7a13",
   "metadata": {},
   "outputs": [],
   "source": [
    "import category_encoders as ce"
   ]
  },
  {
   "cell_type": "code",
   "execution_count": null,
   "id": "279b6c63",
   "metadata": {},
   "outputs": [],
   "source": [
    "encoder = ce.OneHotEncoder(cols=categorical)\n",
    "\n",
    "X_train = encoder.fit_transform(X_train)\n",
    "\n",
    "X_test = encoder.transform(X_test)"
   ]
  },
  {
   "cell_type": "markdown",
   "id": "17ff9829",
   "metadata": {},
   "source": [
    "Check the shape of X_train and X_test"
   ]
  },
  {
   "cell_type": "code",
   "execution_count": null,
   "id": "30344cce",
   "metadata": {},
   "outputs": [],
   "source": [
    "X_train.shape, X_test.shape"
   ]
  },
  {
   "cell_type": "code",
   "execution_count": null,
   "id": "83683350",
   "metadata": {},
   "outputs": [],
   "source": [
    "cols = X_train.columns"
   ]
  },
  {
   "cell_type": "markdown",
   "id": "e2322a2c",
   "metadata": {},
   "source": [
    "Feature Scaling\n",
    "\n",
    "We should map all the feature variables into the same scale. It is called feature scaling"
   ]
  },
  {
   "cell_type": "code",
   "execution_count": null,
   "id": "97553023",
   "metadata": {},
   "outputs": [],
   "source": [
    "from sklearn.preprocessing import RobustScaler\n",
    "\n",
    "scaler = RobustScaler()\n",
    "\n",
    "X_train = scaler.fit_transform(X_train)\n",
    "\n",
    "X_test = scaler.transform(X_test)"
   ]
  },
  {
   "cell_type": "code",
   "execution_count": null,
   "id": "8e01e447",
   "metadata": {},
   "outputs": [],
   "source": [
    "X_train = pd.DataFrame(X_train, columns=[cols])"
   ]
  },
  {
   "cell_type": "code",
   "execution_count": null,
   "id": "0a447d74",
   "metadata": {},
   "outputs": [],
   "source": [
    "X_test = pd.DataFrame(X_test, columns=[cols])"
   ]
  },
  {
   "cell_type": "markdown",
   "id": "ed9272c2",
   "metadata": {},
   "source": [
    "Create the model"
   ]
  },
  {
   "cell_type": "code",
   "execution_count": null,
   "id": "e38613ed",
   "metadata": {},
   "outputs": [],
   "source": [
    "clf = RandomForestClassifier(n_estimators=100, random_state=0)\n",
    "\n",
    "clf.fit(X_train, y_train)"
   ]
  },
  {
   "cell_type": "markdown",
   "id": "aa120319",
   "metadata": {},
   "source": [
    "View the feature scores"
   ]
  },
  {
   "cell_type": "code",
   "execution_count": null,
   "id": "0597a70b",
   "metadata": {},
   "outputs": [],
   "source": [
    "feature_scores = pd.Series(clf.feature_importances_, index=X_train.columns).sort_values(ascending=False)\n",
    "\n",
    "feature_scores"
   ]
  },
  {
   "cell_type": "markdown",
   "id": "ba1be072",
   "metadata": {},
   "source": [
    "###### + Categorical"
   ]
  },
  {
   "cell_type": "markdown",
   "id": "c86aad68",
   "metadata": {},
   "source": [
    "Let consider the categorical attributes to encoding"
   ]
  },
  {
   "cell_type": "code",
   "execution_count": null,
   "id": "deb07368",
   "metadata": {},
   "outputs": [],
   "source": [
    "categorical = [col for col in housePrice.columns if housePrice[col].dtypes == 'O']\n",
    "\n",
    "print(len(categorical))\n",
    "\n",
    "categorical"
   ]
  },
  {
   "cell_type": "markdown",
   "id": "9180acae",
   "metadata": {},
   "source": [
    "Take the real categorical attributes, because some numerical features are fake numerical"
   ]
  },
  {
   "cell_type": "code",
   "execution_count": null,
   "id": "60c2bc3c",
   "metadata": {},
   "outputs": [],
   "source": [
    "real_categorical = [col for col in housePrice.columns if col not in real_numerical]\n",
    "\n",
    "print(len(real_categorical))\n",
    "\n",
    "real_categorical"
   ]
  },
  {
   "cell_type": "markdown",
   "id": "2f16a2c5",
   "metadata": {},
   "source": [
    "Split data into separate training and test set"
   ]
  },
  {
   "cell_type": "code",
   "execution_count": null,
   "id": "f3f2fe6e",
   "metadata": {},
   "outputs": [],
   "source": [
    "X = housePrice.drop('PriceLabel', axis=1)\n",
    "y = housePrice['PriceLabel']"
   ]
  },
  {
   "cell_type": "code",
   "execution_count": null,
   "id": "c5111fe4",
   "metadata": {},
   "outputs": [],
   "source": [
    "X_train, X_test, y_train, y_test = train_test_split(X, y, test_size = 0.3, random_state = 0)"
   ]
  },
  {
   "cell_type": "markdown",
   "id": "72f1acad",
   "metadata": {},
   "source": [
    "Check the shape of X_train and X_test"
   ]
  },
  {
   "cell_type": "code",
   "execution_count": null,
   "id": "62132e50",
   "metadata": {},
   "outputs": [],
   "source": [
    "X_train.shape, X_test.shape"
   ]
  },
  {
   "cell_type": "markdown",
   "id": "dd4e728a",
   "metadata": {},
   "source": [
    "Encode categorical variables"
   ]
  },
  {
   "cell_type": "code",
   "execution_count": null,
   "id": "44d41a38",
   "metadata": {},
   "outputs": [],
   "source": [
    "import category_encoders as ce"
   ]
  },
  {
   "cell_type": "code",
   "execution_count": null,
   "id": "2ac4dcd8",
   "metadata": {},
   "outputs": [],
   "source": [
    "encoder = ce.OneHotEncoder(cols=real_categorical)\n",
    "\n",
    "X_train = encoder.fit_transform(X_train)\n",
    "\n",
    "X_test = encoder.transform(X_test)"
   ]
  },
  {
   "cell_type": "markdown",
   "id": "ac5c0881",
   "metadata": {},
   "source": [
    "Check the shape of X_train and X_test"
   ]
  },
  {
   "cell_type": "code",
   "execution_count": null,
   "id": "5b17556f",
   "metadata": {},
   "outputs": [],
   "source": [
    "X_train.shape, X_test.shape"
   ]
  },
  {
   "cell_type": "markdown",
   "id": "63368c9d",
   "metadata": {},
   "source": [
    "Feature Scaling"
   ]
  },
  {
   "cell_type": "markdown",
   "id": "28b28aa6",
   "metadata": {},
   "source": [
    "We should map all the feature variables into the same scale. It is called feature scaling"
   ]
  },
  {
   "cell_type": "code",
   "execution_count": null,
   "id": "9a6ed185",
   "metadata": {},
   "outputs": [],
   "source": [
    "cols = X_train.columns"
   ]
  },
  {
   "cell_type": "code",
   "execution_count": null,
   "id": "e556999a",
   "metadata": {},
   "outputs": [],
   "source": [
    "from sklearn.preprocessing import RobustScaler\n",
    "\n",
    "scaler = RobustScaler()\n",
    "\n",
    "X_train = scaler.fit_transform(X_train)\n",
    "\n",
    "X_test = scaler.transform(X_test)"
   ]
  },
  {
   "cell_type": "code",
   "execution_count": null,
   "id": "8ec67813",
   "metadata": {},
   "outputs": [],
   "source": [
    "X_train = pd.DataFrame(X_train, columns=[cols])"
   ]
  },
  {
   "cell_type": "code",
   "execution_count": null,
   "id": "39a670ec",
   "metadata": {},
   "outputs": [],
   "source": [
    "X_test = pd.DataFrame(X_test, columns=[cols])"
   ]
  },
  {
   "cell_type": "code",
   "execution_count": null,
   "id": "8b21bf99",
   "metadata": {},
   "outputs": [],
   "source": [
    "clf = RandomForestClassifier(n_estimators=100, random_state=0)\n",
    "\n",
    "clf.fit(X_train, y_train)"
   ]
  },
  {
   "cell_type": "markdown",
   "id": "6235ba16",
   "metadata": {},
   "source": [
    "View the feature scores"
   ]
  },
  {
   "cell_type": "code",
   "execution_count": null,
   "id": "1c54258c",
   "metadata": {},
   "outputs": [],
   "source": [
    "feature_scores = pd.Series(clf.feature_importances_, index=X_train.columns).sort_values(ascending=False)\n",
    "\n",
    "feature_scores"
   ]
  }
 ],
 "metadata": {
  "kernelspec": {
   "display_name": "Python 3",
   "language": "python",
   "name": "python3"
  },
  "language_info": {
   "codemirror_mode": {
    "name": "ipython",
    "version": 3
   },
   "file_extension": ".py",
   "mimetype": "text/x-python",
   "name": "python",
   "nbconvert_exporter": "python",
   "pygments_lexer": "ipython3",
   "version": "3.6.9"
  }
 },
 "nbformat": 4,
 "nbformat_minor": 5
}
